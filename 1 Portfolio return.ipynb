{
 "cells": [
  {
   "cell_type": "code",
   "execution_count": 21,
   "id": "61a00b16",
   "metadata": {},
   "outputs": [
    {
     "name": "stdout",
     "output_type": "stream",
     "text": [
      "[*********************100%***********************]  1 of 1 completed\n"
     ]
    }
   ],
   "source": [
    "# Optimising a portfolio using a Monte Carlo simulation with Efficient Frontier \n",
    "# to balance the return with the optimal risk for a client.\n",
    "# Also, the volatility of stocks like NVDA will be calculated, the Sharpe Ratio,\n",
    "# know what and how to make Monte Carlo Simulations, Efficient Frontier, \n",
    "# calculate Correlation, use Linear Regression, calculate the Beta and CAPM.\n",
    "\n",
    "# 1) Use pandas and NumPy to calculate the Return of a Portfolio\n",
    "# 2) Risk and Volatility of a stock calculated as Average True Range (ATR)\n",
    "# 3) Combine Risk and Return into Sharpe Ratio\n",
    "# 4) Use Monte Carlo Simulation to optimize portfolio with Risk and Return\n",
    "# 5) How to balance your portfolio with Correlation\n",
    "# 6) Use Linear Regression to find how X causes Y\n",
    "# 7) Measure a stock’s volatility in relation to the overall market as Beta.\n",
    "# 8) CAPM – Relationship between systematic risk and expected return\n",
    "\n",
    "## For analysis on an index\n",
    "## import pandas_datareader.data as pdr\n",
    "## import yfinance as yf\n",
    "## yf.pdr_override()\n",
    "## from datetime import datetime\n",
    "## data = pdr.get_data_yahoo('^GSPC', datetime(1970,1,1))\n",
    "\n",
    "\n",
    "# PART 1: PORTFOLIO RETURN\n",
    "\n",
    "import pandas_datareader.data as pdr\n",
    "import numpy as np\n",
    "import datetime as dt\n",
    "import yfinance as yfin\n",
    "yfin.pdr_override()\n",
    "\n",
    "# To get around a breaking change in the yahoo finance API\n",
    "\n",
    "ticker = \"NVDA\"\n",
    "start = dt.datetime(2019, 1, 1)\n",
    "data = pdr.get_data_yahoo(ticker, start)"
   ]
  },
  {
   "cell_type": "code",
   "execution_count": 5,
   "id": "b7ab94d1",
   "metadata": {},
   "outputs": [
    {
     "data": {
      "text/html": [
       "<div>\n",
       "<style scoped>\n",
       "    .dataframe tbody tr th:only-of-type {\n",
       "        vertical-align: middle;\n",
       "    }\n",
       "\n",
       "    .dataframe tbody tr th {\n",
       "        vertical-align: top;\n",
       "    }\n",
       "\n",
       "    .dataframe thead th {\n",
       "        text-align: right;\n",
       "    }\n",
       "</style>\n",
       "<table border=\"1\" class=\"dataframe\">\n",
       "  <thead>\n",
       "    <tr style=\"text-align: right;\">\n",
       "      <th></th>\n",
       "      <th>Open</th>\n",
       "      <th>High</th>\n",
       "      <th>Low</th>\n",
       "      <th>Close</th>\n",
       "      <th>Adj Close</th>\n",
       "      <th>Volume</th>\n",
       "    </tr>\n",
       "    <tr>\n",
       "      <th>Date</th>\n",
       "      <th></th>\n",
       "      <th></th>\n",
       "      <th></th>\n",
       "      <th></th>\n",
       "      <th></th>\n",
       "      <th></th>\n",
       "    </tr>\n",
       "  </thead>\n",
       "  <tbody>\n",
       "    <tr>\n",
       "      <th>2019-01-02</th>\n",
       "      <td>32.660000</td>\n",
       "      <td>34.619999</td>\n",
       "      <td>32.512501</td>\n",
       "      <td>34.055000</td>\n",
       "      <td>33.799728</td>\n",
       "      <td>50875200</td>\n",
       "    </tr>\n",
       "    <tr>\n",
       "      <th>2019-01-03</th>\n",
       "      <td>33.447498</td>\n",
       "      <td>33.790001</td>\n",
       "      <td>31.922501</td>\n",
       "      <td>31.997499</td>\n",
       "      <td>31.757648</td>\n",
       "      <td>70555200</td>\n",
       "    </tr>\n",
       "    <tr>\n",
       "      <th>2019-01-04</th>\n",
       "      <td>32.735001</td>\n",
       "      <td>34.432499</td>\n",
       "      <td>32.424999</td>\n",
       "      <td>34.047501</td>\n",
       "      <td>33.792286</td>\n",
       "      <td>58562000</td>\n",
       "    </tr>\n",
       "    <tr>\n",
       "      <th>2019-01-07</th>\n",
       "      <td>34.625000</td>\n",
       "      <td>36.222500</td>\n",
       "      <td>34.107498</td>\n",
       "      <td>35.849998</td>\n",
       "      <td>35.581272</td>\n",
       "      <td>70916000</td>\n",
       "    </tr>\n",
       "    <tr>\n",
       "      <th>2019-01-08</th>\n",
       "      <td>36.672501</td>\n",
       "      <td>36.695000</td>\n",
       "      <td>34.224998</td>\n",
       "      <td>34.957500</td>\n",
       "      <td>34.695465</td>\n",
       "      <td>78601600</td>\n",
       "    </tr>\n",
       "  </tbody>\n",
       "</table>\n",
       "</div>"
      ],
      "text/plain": [
       "                 Open       High        Low      Close  Adj Close    Volume\n",
       "Date                                                                       \n",
       "2019-01-02  32.660000  34.619999  32.512501  34.055000  33.799728  50875200\n",
       "2019-01-03  33.447498  33.790001  31.922501  31.997499  31.757648  70555200\n",
       "2019-01-04  32.735001  34.432499  32.424999  34.047501  33.792286  58562000\n",
       "2019-01-07  34.625000  36.222500  34.107498  35.849998  35.581272  70916000\n",
       "2019-01-08  36.672501  36.695000  34.224998  34.957500  34.695465  78601600"
      ]
     },
     "execution_count": 5,
     "metadata": {},
     "output_type": "execute_result"
    }
   ],
   "source": [
    "data.head()"
   ]
  },
  {
   "cell_type": "code",
   "execution_count": 6,
   "id": "84d49742",
   "metadata": {},
   "outputs": [
    {
     "data": {
      "text/plain": [
       "DatetimeIndex(['2019-01-02', '2019-01-03', '2019-01-04', '2019-01-07',\n",
       "               '2019-01-08', '2019-01-09', '2019-01-10', '2019-01-11',\n",
       "               '2019-01-14', '2019-01-15',\n",
       "               ...\n",
       "               '2023-04-11', '2023-04-12', '2023-04-13', '2023-04-14',\n",
       "               '2023-04-17', '2023-04-18', '2023-04-19', '2023-04-20',\n",
       "               '2023-04-21', '2023-04-24'],\n",
       "              dtype='datetime64[ns]', name='Date', length=1085, freq=None)"
      ]
     },
     "execution_count": 6,
     "metadata": {},
     "output_type": "execute_result"
    }
   ],
   "source": [
    "data.index"
   ]
  },
  {
   "cell_type": "code",
   "execution_count": 7,
   "id": "a48190da",
   "metadata": {},
   "outputs": [
    {
     "data": {
      "text/plain": [
       "Open         float64\n",
       "High         float64\n",
       "Low          float64\n",
       "Close        float64\n",
       "Adj Close    float64\n",
       "Volume         int64\n",
       "dtype: object"
      ]
     },
     "execution_count": 7,
     "metadata": {},
     "output_type": "execute_result"
    }
   ],
   "source": [
    "data.dtypes"
   ]
  },
  {
   "cell_type": "code",
   "execution_count": 8,
   "id": "40f0f8dd",
   "metadata": {},
   "outputs": [
    {
     "data": {
      "text/plain": [
       "pandas.core.frame.DataFrame"
      ]
     },
     "execution_count": 8,
     "metadata": {},
     "output_type": "execute_result"
    }
   ],
   "source": [
    "type(data)"
   ]
  },
  {
   "cell_type": "code",
   "execution_count": 10,
   "id": "154153bd",
   "metadata": {},
   "outputs": [
    {
     "data": {
      "text/plain": [
       "array([[3.26599998e+01, 3.46199989e+01, 3.25125008e+01, 3.40550003e+01,\n",
       "        3.37997284e+01, 5.08752000e+07],\n",
       "       [3.34474983e+01, 3.37900009e+01, 3.19225006e+01, 3.19974995e+01,\n",
       "        3.17576485e+01, 7.05552000e+07],\n",
       "       [3.27350006e+01, 3.44324989e+01, 3.24249992e+01, 3.40475006e+01,\n",
       "        3.37922859e+01, 5.85620000e+07],\n",
       "       ...,\n",
       "       [2.76709991e+02, 2.80299988e+02, 2.70000000e+02, 2.71040009e+02,\n",
       "        2.71040009e+02, 4.27713000e+07],\n",
       "       [2.69519989e+02, 2.71829987e+02, 2.67220001e+02, 2.71190002e+02,\n",
       "        2.71190002e+02, 3.44766000e+07],\n",
       "       [2.70130005e+02, 2.73660004e+02, 2.66709991e+02, 2.70420013e+02,\n",
       "        2.70420013e+02, 3.38865000e+07]])"
      ]
     },
     "execution_count": 10,
     "metadata": {},
     "output_type": "execute_result"
    }
   ],
   "source": [
    "### Using NumPy\n",
    "# Pandas dataframes are built upon NumPy data arrays. Numpy helps with more advanced financial \n",
    "# analysis.\n",
    "# NumPy dataframes are more restrictive.\n",
    "\n",
    "data.to_numpy()\n",
    "# The names of the columns have been dropped."
   ]
  },
  {
   "cell_type": "code",
   "execution_count": 11,
   "id": "7694a465",
   "metadata": {},
   "outputs": [],
   "source": [
    "arr = data.to_numpy()"
   ]
  },
  {
   "cell_type": "code",
   "execution_count": 12,
   "id": "8a774dcf",
   "metadata": {},
   "outputs": [
    {
     "data": {
      "text/plain": [
       "(1085, 6)"
      ]
     },
     "execution_count": 12,
     "metadata": {},
     "output_type": "execute_result"
    }
   ],
   "source": [
    "arr.shape\n",
    "# Which means there are 1085 rows, and 6 columns"
   ]
  },
  {
   "cell_type": "code",
   "execution_count": 13,
   "id": "6577e4d6",
   "metadata": {},
   "outputs": [
    {
     "data": {
      "text/plain": [
       "1085"
      ]
     },
     "execution_count": 13,
     "metadata": {},
     "output_type": "execute_result"
    }
   ],
   "source": [
    "len(data)\n",
    "# Same number of rows"
   ]
  },
  {
   "cell_type": "code",
   "execution_count": 14,
   "id": "09ceec05",
   "metadata": {},
   "outputs": [
    {
     "data": {
      "text/plain": [
       "array([3.26599998e+01, 3.46199989e+01, 3.25125008e+01, 3.40550003e+01,\n",
       "       3.37997284e+01, 5.08752000e+07])"
      ]
     },
     "execution_count": 14,
     "metadata": {},
     "output_type": "execute_result"
    }
   ],
   "source": [
    "arr[0]"
   ]
  },
  {
   "cell_type": "code",
   "execution_count": 15,
   "id": "90ab5f25",
   "metadata": {},
   "outputs": [
    {
     "data": {
      "text/html": [
       "<div>\n",
       "<style scoped>\n",
       "    .dataframe tbody tr th:only-of-type {\n",
       "        vertical-align: middle;\n",
       "    }\n",
       "\n",
       "    .dataframe tbody tr th {\n",
       "        vertical-align: top;\n",
       "    }\n",
       "\n",
       "    .dataframe thead th {\n",
       "        text-align: right;\n",
       "    }\n",
       "</style>\n",
       "<table border=\"1\" class=\"dataframe\">\n",
       "  <thead>\n",
       "    <tr style=\"text-align: right;\">\n",
       "      <th></th>\n",
       "      <th>Open</th>\n",
       "      <th>High</th>\n",
       "      <th>Low</th>\n",
       "      <th>Close</th>\n",
       "      <th>Adj Close</th>\n",
       "      <th>Volume</th>\n",
       "    </tr>\n",
       "    <tr>\n",
       "      <th>Date</th>\n",
       "      <th></th>\n",
       "      <th></th>\n",
       "      <th></th>\n",
       "      <th></th>\n",
       "      <th></th>\n",
       "      <th></th>\n",
       "    </tr>\n",
       "  </thead>\n",
       "  <tbody>\n",
       "    <tr>\n",
       "      <th>2019-01-02</th>\n",
       "      <td>32.66</td>\n",
       "      <td>34.619999</td>\n",
       "      <td>32.512501</td>\n",
       "      <td>34.055</td>\n",
       "      <td>33.799728</td>\n",
       "      <td>50875200</td>\n",
       "    </tr>\n",
       "  </tbody>\n",
       "</table>\n",
       "</div>"
      ],
      "text/plain": [
       "             Open       High        Low   Close  Adj Close    Volume\n",
       "Date                                                                \n",
       "2019-01-02  32.66  34.619999  32.512501  34.055  33.799728  50875200"
      ]
     },
     "execution_count": 15,
     "metadata": {},
     "output_type": "execute_result"
    }
   ],
   "source": [
    "data.head(1)\n",
    "\n",
    "# Data in the NumPy array is the same, but in a different format, but with the loss of the column\n",
    "# names and the formatting comes speed in computation."
   ]
  },
  {
   "cell_type": "code",
   "execution_count": 16,
   "id": "f92adfd4",
   "metadata": {},
   "outputs": [
    {
     "data": {
      "text/plain": [
       "dtype('float64')"
      ]
     },
     "execution_count": 16,
     "metadata": {},
     "output_type": "execute_result"
    }
   ],
   "source": [
    "arr.dtype\n",
    "# In NumPy data arrays, there is only 1 data type, a float. In a pandas dataframe, there can be a\n",
    "# data type for each comlumn.\n",
    "# This is how arrays are represented inside C programming language."
   ]
  },
  {
   "cell_type": "code",
   "execution_count": 17,
   "id": "259ce33c",
   "metadata": {},
   "outputs": [],
   "source": [
    "# Making a subset of the data\n",
    "small = arr[:10, 0].copy()\n",
    "# Accessing the first row of the array until index 10, which is row 9, and the first entry of each row"
   ]
  },
  {
   "cell_type": "code",
   "execution_count": 18,
   "id": "c59d8d3f",
   "metadata": {},
   "outputs": [
    {
     "data": {
      "text/plain": [
       "array([32.65999985, 33.44749832, 32.73500061, 34.625     , 36.67250061,\n",
       "       35.47499847, 35.45000076, 36.08250046, 36.68000031, 37.93999863])"
      ]
     },
     "execution_count": 18,
     "metadata": {},
     "output_type": "execute_result"
    }
   ],
   "source": [
    "small"
   ]
  },
  {
   "cell_type": "code",
   "execution_count": 19,
   "id": "3964d791",
   "metadata": {},
   "outputs": [
    {
     "data": {
      "text/html": [
       "<div>\n",
       "<style scoped>\n",
       "    .dataframe tbody tr th:only-of-type {\n",
       "        vertical-align: middle;\n",
       "    }\n",
       "\n",
       "    .dataframe tbody tr th {\n",
       "        vertical-align: top;\n",
       "    }\n",
       "\n",
       "    .dataframe thead th {\n",
       "        text-align: right;\n",
       "    }\n",
       "</style>\n",
       "<table border=\"1\" class=\"dataframe\">\n",
       "  <thead>\n",
       "    <tr style=\"text-align: right;\">\n",
       "      <th></th>\n",
       "      <th>Open</th>\n",
       "      <th>High</th>\n",
       "      <th>Low</th>\n",
       "      <th>Close</th>\n",
       "      <th>Adj Close</th>\n",
       "      <th>Volume</th>\n",
       "    </tr>\n",
       "    <tr>\n",
       "      <th>Date</th>\n",
       "      <th></th>\n",
       "      <th></th>\n",
       "      <th></th>\n",
       "      <th></th>\n",
       "      <th></th>\n",
       "      <th></th>\n",
       "    </tr>\n",
       "  </thead>\n",
       "  <tbody>\n",
       "    <tr>\n",
       "      <th>2019-01-02</th>\n",
       "      <td>32.660000</td>\n",
       "      <td>34.619999</td>\n",
       "      <td>32.512501</td>\n",
       "      <td>34.055000</td>\n",
       "      <td>33.799728</td>\n",
       "      <td>50875200</td>\n",
       "    </tr>\n",
       "    <tr>\n",
       "      <th>2019-01-03</th>\n",
       "      <td>33.447498</td>\n",
       "      <td>33.790001</td>\n",
       "      <td>31.922501</td>\n",
       "      <td>31.997499</td>\n",
       "      <td>31.757648</td>\n",
       "      <td>70555200</td>\n",
       "    </tr>\n",
       "    <tr>\n",
       "      <th>2019-01-04</th>\n",
       "      <td>32.735001</td>\n",
       "      <td>34.432499</td>\n",
       "      <td>32.424999</td>\n",
       "      <td>34.047501</td>\n",
       "      <td>33.792286</td>\n",
       "      <td>58562000</td>\n",
       "    </tr>\n",
       "    <tr>\n",
       "      <th>2019-01-07</th>\n",
       "      <td>34.625000</td>\n",
       "      <td>36.222500</td>\n",
       "      <td>34.107498</td>\n",
       "      <td>35.849998</td>\n",
       "      <td>35.581272</td>\n",
       "      <td>70916000</td>\n",
       "    </tr>\n",
       "    <tr>\n",
       "      <th>2019-01-08</th>\n",
       "      <td>36.672501</td>\n",
       "      <td>36.695000</td>\n",
       "      <td>34.224998</td>\n",
       "      <td>34.957500</td>\n",
       "      <td>34.695465</td>\n",
       "      <td>78601600</td>\n",
       "    </tr>\n",
       "  </tbody>\n",
       "</table>\n",
       "</div>"
      ],
      "text/plain": [
       "                 Open       High        Low      Close  Adj Close    Volume\n",
       "Date                                                                       \n",
       "2019-01-02  32.660000  34.619999  32.512501  34.055000  33.799728  50875200\n",
       "2019-01-03  33.447498  33.790001  31.922501  31.997499  31.757648  70555200\n",
       "2019-01-04  32.735001  34.432499  32.424999  34.047501  33.792286  58562000\n",
       "2019-01-07  34.625000  36.222500  34.107498  35.849998  35.581272  70916000\n",
       "2019-01-08  36.672501  36.695000  34.224998  34.957500  34.695465  78601600"
      ]
     },
     "execution_count": 19,
     "metadata": {},
     "output_type": "execute_result"
    }
   ],
   "source": [
    "data.head()"
   ]
  },
  {
   "cell_type": "code",
   "execution_count": 22,
   "id": "7c4be1d7",
   "metadata": {},
   "outputs": [
    {
     "data": {
      "text/plain": [
       "37.939998626708984"
      ]
     },
     "execution_count": 22,
     "metadata": {},
     "output_type": "execute_result"
    }
   ],
   "source": [
    "np.max(small)\n",
    "# Calling it from the NumPy library, and add the NumPy array and it finds the maximum value"
   ]
  },
  {
   "cell_type": "code",
   "execution_count": 23,
   "id": "35363ccf",
   "metadata": {},
   "outputs": [
    {
     "data": {
      "text/plain": [
       "37.939998626708984"
      ]
     },
     "execution_count": 23,
     "metadata": {},
     "output_type": "execute_result"
    }
   ],
   "source": [
    "small.max()\n",
    "# Calling it directly on it"
   ]
  },
  {
   "cell_type": "code",
   "execution_count": 24,
   "id": "d6ee7a08",
   "metadata": {},
   "outputs": [
    {
     "data": {
      "text/plain": [
       "9"
      ]
     },
     "execution_count": 24,
     "metadata": {},
     "output_type": "execute_result"
    }
   ],
   "source": [
    "small.argmax()\n",
    "# We know it is on index 9, which means it is on the 10th row"
   ]
  },
  {
   "cell_type": "code",
   "execution_count": 25,
   "id": "722583be",
   "metadata": {},
   "outputs": [
    {
     "data": {
      "text/plain": [
       "37.939998626708984"
      ]
     },
     "execution_count": 25,
     "metadata": {},
     "output_type": "execute_result"
    }
   ],
   "source": [
    "small[small.argmax()]"
   ]
  },
  {
   "cell_type": "code",
   "execution_count": 26,
   "id": "3f5402c3",
   "metadata": {},
   "outputs": [
    {
     "data": {
      "text/plain": [
       "array([3.48615108, 3.509977  , 3.48844486, 3.54457596, 3.60202717,\n",
       "       3.56882818, 3.56812327, 3.585808  , 3.60223166, 3.63600593])"
      ]
     },
     "execution_count": 26,
     "metadata": {},
     "output_type": "execute_result"
    }
   ],
   "source": [
    "# Calculating the log return using NumPy on the first 10 rows of NVDA stock\n",
    "np.log(small)\n"
   ]
  },
  {
   "cell_type": "code",
   "execution_count": 27,
   "id": "bf27445a",
   "metadata": {},
   "outputs": [
    {
     "data": {
      "text/html": [
       "<div>\n",
       "<style scoped>\n",
       "    .dataframe tbody tr th:only-of-type {\n",
       "        vertical-align: middle;\n",
       "    }\n",
       "\n",
       "    .dataframe tbody tr th {\n",
       "        vertical-align: top;\n",
       "    }\n",
       "\n",
       "    .dataframe thead th {\n",
       "        text-align: right;\n",
       "    }\n",
       "</style>\n",
       "<table border=\"1\" class=\"dataframe\">\n",
       "  <thead>\n",
       "    <tr style=\"text-align: right;\">\n",
       "      <th></th>\n",
       "      <th>Open</th>\n",
       "      <th>High</th>\n",
       "      <th>Low</th>\n",
       "      <th>Close</th>\n",
       "      <th>Adj Close</th>\n",
       "      <th>Volume</th>\n",
       "    </tr>\n",
       "    <tr>\n",
       "      <th>Date</th>\n",
       "      <th></th>\n",
       "      <th></th>\n",
       "      <th></th>\n",
       "      <th></th>\n",
       "      <th></th>\n",
       "      <th></th>\n",
       "    </tr>\n",
       "  </thead>\n",
       "  <tbody>\n",
       "    <tr>\n",
       "      <th>2019-01-02</th>\n",
       "      <td>3.486151</td>\n",
       "      <td>3.544432</td>\n",
       "      <td>3.481625</td>\n",
       "      <td>3.527977</td>\n",
       "      <td>3.520453</td>\n",
       "      <td>17.744886</td>\n",
       "    </tr>\n",
       "    <tr>\n",
       "      <th>2019-01-03</th>\n",
       "      <td>3.509977</td>\n",
       "      <td>3.520165</td>\n",
       "      <td>3.463311</td>\n",
       "      <td>3.465658</td>\n",
       "      <td>3.458134</td>\n",
       "      <td>18.071906</td>\n",
       "    </tr>\n",
       "    <tr>\n",
       "      <th>2019-01-04</th>\n",
       "      <td>3.488445</td>\n",
       "      <td>3.539001</td>\n",
       "      <td>3.478930</td>\n",
       "      <td>3.527757</td>\n",
       "      <td>3.520233</td>\n",
       "      <td>17.885597</td>\n",
       "    </tr>\n",
       "    <tr>\n",
       "      <th>2019-01-07</th>\n",
       "      <td>3.544576</td>\n",
       "      <td>3.589680</td>\n",
       "      <td>3.529517</td>\n",
       "      <td>3.579344</td>\n",
       "      <td>3.571819</td>\n",
       "      <td>18.077007</td>\n",
       "    </tr>\n",
       "    <tr>\n",
       "      <th>2019-01-08</th>\n",
       "      <td>3.602027</td>\n",
       "      <td>3.602640</td>\n",
       "      <td>3.532956</td>\n",
       "      <td>3.554133</td>\n",
       "      <td>3.546609</td>\n",
       "      <td>18.179903</td>\n",
       "    </tr>\n",
       "    <tr>\n",
       "      <th>...</th>\n",
       "      <td>...</td>\n",
       "      <td>...</td>\n",
       "      <td>...</td>\n",
       "      <td>...</td>\n",
       "      <td>...</td>\n",
       "      <td>...</td>\n",
       "    </tr>\n",
       "    <tr>\n",
       "      <th>2023-04-18</th>\n",
       "      <td>5.617970</td>\n",
       "      <td>5.638710</td>\n",
       "      <td>5.611558</td>\n",
       "      <td>5.622826</td>\n",
       "      <td>5.622826</td>\n",
       "      <td>17.917843</td>\n",
       "    </tr>\n",
       "    <tr>\n",
       "      <th>2023-04-19</th>\n",
       "      <td>5.611704</td>\n",
       "      <td>5.634790</td>\n",
       "      <td>5.606978</td>\n",
       "      <td>5.632322</td>\n",
       "      <td>5.632322</td>\n",
       "      <td>17.395300</td>\n",
       "    </tr>\n",
       "    <tr>\n",
       "      <th>2023-04-20</th>\n",
       "      <td>5.622970</td>\n",
       "      <td>5.635860</td>\n",
       "      <td>5.598422</td>\n",
       "      <td>5.602266</td>\n",
       "      <td>5.602266</td>\n",
       "      <td>17.571378</td>\n",
       "    </tr>\n",
       "    <tr>\n",
       "      <th>2023-04-21</th>\n",
       "      <td>5.596643</td>\n",
       "      <td>5.605177</td>\n",
       "      <td>5.588072</td>\n",
       "      <td>5.602820</td>\n",
       "      <td>5.602820</td>\n",
       "      <td>17.355791</td>\n",
       "    </tr>\n",
       "    <tr>\n",
       "      <th>2023-04-24</th>\n",
       "      <td>5.598903</td>\n",
       "      <td>5.611886</td>\n",
       "      <td>5.586162</td>\n",
       "      <td>5.599976</td>\n",
       "      <td>5.599976</td>\n",
       "      <td>17.338527</td>\n",
       "    </tr>\n",
       "  </tbody>\n",
       "</table>\n",
       "<p>1085 rows × 6 columns</p>\n",
       "</div>"
      ],
      "text/plain": [
       "                Open      High       Low     Close  Adj Close     Volume\n",
       "Date                                                                    \n",
       "2019-01-02  3.486151  3.544432  3.481625  3.527977   3.520453  17.744886\n",
       "2019-01-03  3.509977  3.520165  3.463311  3.465658   3.458134  18.071906\n",
       "2019-01-04  3.488445  3.539001  3.478930  3.527757   3.520233  17.885597\n",
       "2019-01-07  3.544576  3.589680  3.529517  3.579344   3.571819  18.077007\n",
       "2019-01-08  3.602027  3.602640  3.532956  3.554133   3.546609  18.179903\n",
       "...              ...       ...       ...       ...        ...        ...\n",
       "2023-04-18  5.617970  5.638710  5.611558  5.622826   5.622826  17.917843\n",
       "2023-04-19  5.611704  5.634790  5.606978  5.632322   5.632322  17.395300\n",
       "2023-04-20  5.622970  5.635860  5.598422  5.602266   5.602266  17.571378\n",
       "2023-04-21  5.596643  5.605177  5.588072  5.602820   5.602820  17.355791\n",
       "2023-04-24  5.598903  5.611886  5.586162  5.599976   5.599976  17.338527\n",
       "\n",
       "[1085 rows x 6 columns]"
      ]
     },
     "execution_count": 27,
     "metadata": {},
     "output_type": "execute_result"
    }
   ],
   "source": [
    "np.log(data)"
   ]
  },
  {
   "cell_type": "code",
   "execution_count": 28,
   "id": "39829a61",
   "metadata": {},
   "outputs": [
    {
     "data": {
      "text/html": [
       "<div>\n",
       "<style scoped>\n",
       "    .dataframe tbody tr th:only-of-type {\n",
       "        vertical-align: middle;\n",
       "    }\n",
       "\n",
       "    .dataframe tbody tr th {\n",
       "        vertical-align: top;\n",
       "    }\n",
       "\n",
       "    .dataframe thead th {\n",
       "        text-align: right;\n",
       "    }\n",
       "</style>\n",
       "<table border=\"1\" class=\"dataframe\">\n",
       "  <thead>\n",
       "    <tr style=\"text-align: right;\">\n",
       "      <th></th>\n",
       "      <th>Open</th>\n",
       "      <th>High</th>\n",
       "      <th>Low</th>\n",
       "      <th>Close</th>\n",
       "      <th>Adj Close</th>\n",
       "      <th>Volume</th>\n",
       "    </tr>\n",
       "    <tr>\n",
       "      <th>Date</th>\n",
       "      <th></th>\n",
       "      <th></th>\n",
       "      <th></th>\n",
       "      <th></th>\n",
       "      <th></th>\n",
       "      <th></th>\n",
       "    </tr>\n",
       "  </thead>\n",
       "  <tbody>\n",
       "    <tr>\n",
       "      <th>2019-01-02</th>\n",
       "      <td>NaN</td>\n",
       "      <td>NaN</td>\n",
       "      <td>NaN</td>\n",
       "      <td>NaN</td>\n",
       "      <td>NaN</td>\n",
       "      <td>NaN</td>\n",
       "    </tr>\n",
       "    <tr>\n",
       "      <th>2019-01-03</th>\n",
       "      <td>1.024112</td>\n",
       "      <td>0.976025</td>\n",
       "      <td>0.981853</td>\n",
       "      <td>0.939583</td>\n",
       "      <td>0.939583</td>\n",
       "      <td>1.386829</td>\n",
       "    </tr>\n",
       "    <tr>\n",
       "      <th>2019-01-04</th>\n",
       "      <td>0.978698</td>\n",
       "      <td>1.019014</td>\n",
       "      <td>1.015741</td>\n",
       "      <td>1.064068</td>\n",
       "      <td>1.064068</td>\n",
       "      <td>0.830017</td>\n",
       "    </tr>\n",
       "    <tr>\n",
       "      <th>2019-01-07</th>\n",
       "      <td>1.057736</td>\n",
       "      <td>1.051986</td>\n",
       "      <td>1.051889</td>\n",
       "      <td>1.052941</td>\n",
       "      <td>1.052940</td>\n",
       "      <td>1.210956</td>\n",
       "    </tr>\n",
       "    <tr>\n",
       "      <th>2019-01-08</th>\n",
       "      <td>1.059134</td>\n",
       "      <td>1.013044</td>\n",
       "      <td>1.003445</td>\n",
       "      <td>0.975105</td>\n",
       "      <td>0.975105</td>\n",
       "      <td>1.108376</td>\n",
       "    </tr>\n",
       "    <tr>\n",
       "      <th>...</th>\n",
       "      <td>...</td>\n",
       "      <td>...</td>\n",
       "      <td>...</td>\n",
       "      <td>...</td>\n",
       "      <td>...</td>\n",
       "      <td>...</td>\n",
       "    </tr>\n",
       "    <tr>\n",
       "      <th>2023-04-18</th>\n",
       "      <td>1.036439</td>\n",
       "      <td>1.040880</td>\n",
       "      <td>1.034956</td>\n",
       "      <td>1.024628</td>\n",
       "      <td>1.024628</td>\n",
       "      <td>1.881389</td>\n",
       "    </tr>\n",
       "    <tr>\n",
       "      <th>2023-04-19</th>\n",
       "      <td>0.993753</td>\n",
       "      <td>0.996087</td>\n",
       "      <td>0.995431</td>\n",
       "      <td>1.009542</td>\n",
       "      <td>1.009542</td>\n",
       "      <td>0.593011</td>\n",
       "    </tr>\n",
       "    <tr>\n",
       "      <th>2023-04-20</th>\n",
       "      <td>1.011330</td>\n",
       "      <td>1.001071</td>\n",
       "      <td>0.991481</td>\n",
       "      <td>0.970391</td>\n",
       "      <td>0.970391</td>\n",
       "      <td>1.192531</td>\n",
       "    </tr>\n",
       "    <tr>\n",
       "      <th>2023-04-21</th>\n",
       "      <td>0.974016</td>\n",
       "      <td>0.969782</td>\n",
       "      <td>0.989704</td>\n",
       "      <td>1.000553</td>\n",
       "      <td>1.000553</td>\n",
       "      <td>0.806069</td>\n",
       "    </tr>\n",
       "    <tr>\n",
       "      <th>2023-04-24</th>\n",
       "      <td>1.002263</td>\n",
       "      <td>1.006732</td>\n",
       "      <td>0.998091</td>\n",
       "      <td>0.997161</td>\n",
       "      <td>0.997161</td>\n",
       "      <td>0.982884</td>\n",
       "    </tr>\n",
       "  </tbody>\n",
       "</table>\n",
       "<p>1085 rows × 6 columns</p>\n",
       "</div>"
      ],
      "text/plain": [
       "                Open      High       Low     Close  Adj Close    Volume\n",
       "Date                                                                   \n",
       "2019-01-02       NaN       NaN       NaN       NaN        NaN       NaN\n",
       "2019-01-03  1.024112  0.976025  0.981853  0.939583   0.939583  1.386829\n",
       "2019-01-04  0.978698  1.019014  1.015741  1.064068   1.064068  0.830017\n",
       "2019-01-07  1.057736  1.051986  1.051889  1.052941   1.052940  1.210956\n",
       "2019-01-08  1.059134  1.013044  1.003445  0.975105   0.975105  1.108376\n",
       "...              ...       ...       ...       ...        ...       ...\n",
       "2023-04-18  1.036439  1.040880  1.034956  1.024628   1.024628  1.881389\n",
       "2023-04-19  0.993753  0.996087  0.995431  1.009542   1.009542  0.593011\n",
       "2023-04-20  1.011330  1.001071  0.991481  0.970391   0.970391  1.192531\n",
       "2023-04-21  0.974016  0.969782  0.989704  1.000553   1.000553  0.806069\n",
       "2023-04-24  1.002263  1.006732  0.998091  0.997161   0.997161  0.982884\n",
       "\n",
       "[1085 rows x 6 columns]"
      ]
     },
     "execution_count": 28,
     "metadata": {},
     "output_type": "execute_result"
    }
   ],
   "source": [
    "data/data.shift()\n",
    "# Calculating the record divided by the previous record"
   ]
  },
  {
   "cell_type": "code",
   "execution_count": 29,
   "id": "e273c200",
   "metadata": {},
   "outputs": [
    {
     "data": {
      "text/html": [
       "<div>\n",
       "<style scoped>\n",
       "    .dataframe tbody tr th:only-of-type {\n",
       "        vertical-align: middle;\n",
       "    }\n",
       "\n",
       "    .dataframe tbody tr th {\n",
       "        vertical-align: top;\n",
       "    }\n",
       "\n",
       "    .dataframe thead th {\n",
       "        text-align: right;\n",
       "    }\n",
       "</style>\n",
       "<table border=\"1\" class=\"dataframe\">\n",
       "  <thead>\n",
       "    <tr style=\"text-align: right;\">\n",
       "      <th></th>\n",
       "      <th>Open</th>\n",
       "      <th>High</th>\n",
       "      <th>Low</th>\n",
       "      <th>Close</th>\n",
       "      <th>Adj Close</th>\n",
       "      <th>Volume</th>\n",
       "    </tr>\n",
       "    <tr>\n",
       "      <th>Date</th>\n",
       "      <th></th>\n",
       "      <th></th>\n",
       "      <th></th>\n",
       "      <th></th>\n",
       "      <th></th>\n",
       "      <th></th>\n",
       "    </tr>\n",
       "  </thead>\n",
       "  <tbody>\n",
       "    <tr>\n",
       "      <th>2019-01-02</th>\n",
       "      <td>32.660000</td>\n",
       "      <td>34.619999</td>\n",
       "      <td>32.512501</td>\n",
       "      <td>34.055000</td>\n",
       "      <td>33.799725</td>\n",
       "      <td>50875200</td>\n",
       "    </tr>\n",
       "    <tr>\n",
       "      <th>2019-01-03</th>\n",
       "      <td>33.447498</td>\n",
       "      <td>33.790001</td>\n",
       "      <td>31.922501</td>\n",
       "      <td>31.997499</td>\n",
       "      <td>31.757650</td>\n",
       "      <td>70555200</td>\n",
       "    </tr>\n",
       "    <tr>\n",
       "      <th>2019-01-04</th>\n",
       "      <td>32.735001</td>\n",
       "      <td>34.432499</td>\n",
       "      <td>32.424999</td>\n",
       "      <td>34.047501</td>\n",
       "      <td>33.792294</td>\n",
       "      <td>58562000</td>\n",
       "    </tr>\n",
       "    <tr>\n",
       "      <th>2019-01-07</th>\n",
       "      <td>34.625000</td>\n",
       "      <td>36.222500</td>\n",
       "      <td>34.107498</td>\n",
       "      <td>35.849998</td>\n",
       "      <td>35.581264</td>\n",
       "      <td>70916000</td>\n",
       "    </tr>\n",
       "    <tr>\n",
       "      <th>2019-01-08</th>\n",
       "      <td>36.672501</td>\n",
       "      <td>36.695000</td>\n",
       "      <td>34.224998</td>\n",
       "      <td>34.957500</td>\n",
       "      <td>34.695454</td>\n",
       "      <td>78601600</td>\n",
       "    </tr>\n",
       "  </tbody>\n",
       "</table>\n",
       "</div>"
      ],
      "text/plain": [
       "                 Open       High        Low      Close  Adj Close    Volume\n",
       "Date                                                                       \n",
       "2019-01-02  32.660000  34.619999  32.512501  34.055000  33.799725  50875200\n",
       "2019-01-03  33.447498  33.790001  31.922501  31.997499  31.757650  70555200\n",
       "2019-01-04  32.735001  34.432499  32.424999  34.047501  33.792294  58562000\n",
       "2019-01-07  34.625000  36.222500  34.107498  35.849998  35.581264  70916000\n",
       "2019-01-08  36.672501  36.695000  34.224998  34.957500  34.695454  78601600"
      ]
     },
     "execution_count": 29,
     "metadata": {},
     "output_type": "execute_result"
    }
   ],
   "source": [
    "data.head()"
   ]
  },
  {
   "cell_type": "code",
   "execution_count": 31,
   "id": "5ba11193",
   "metadata": {},
   "outputs": [
    {
     "data": {
      "text/plain": [
       "1.0241120024494796"
      ]
     },
     "execution_count": 31,
     "metadata": {},
     "output_type": "execute_result"
    }
   ],
   "source": [
    "33.447498 / 32.660000\n",
    "\n",
    "# This is equivalent to a percentage change, day after day.\n",
    "# A percentage change of the logarythm is useful too"
   ]
  },
  {
   "cell_type": "code",
   "execution_count": 34,
   "id": "2420c93b",
   "metadata": {},
   "outputs": [
    {
     "data": {
      "text/html": [
       "<div>\n",
       "<style scoped>\n",
       "    .dataframe tbody tr th:only-of-type {\n",
       "        vertical-align: middle;\n",
       "    }\n",
       "\n",
       "    .dataframe tbody tr th {\n",
       "        vertical-align: top;\n",
       "    }\n",
       "\n",
       "    .dataframe thead th {\n",
       "        text-align: right;\n",
       "    }\n",
       "</style>\n",
       "<table border=\"1\" class=\"dataframe\">\n",
       "  <thead>\n",
       "    <tr style=\"text-align: right;\">\n",
       "      <th></th>\n",
       "      <th>Open</th>\n",
       "      <th>High</th>\n",
       "      <th>Low</th>\n",
       "      <th>Close</th>\n",
       "      <th>Adj Close</th>\n",
       "      <th>Volume</th>\n",
       "    </tr>\n",
       "    <tr>\n",
       "      <th>Date</th>\n",
       "      <th></th>\n",
       "      <th></th>\n",
       "      <th></th>\n",
       "      <th></th>\n",
       "      <th></th>\n",
       "      <th></th>\n",
       "    </tr>\n",
       "  </thead>\n",
       "  <tbody>\n",
       "    <tr>\n",
       "      <th>2019-01-02</th>\n",
       "      <td>NaN</td>\n",
       "      <td>NaN</td>\n",
       "      <td>NaN</td>\n",
       "      <td>NaN</td>\n",
       "      <td>NaN</td>\n",
       "      <td>NaN</td>\n",
       "    </tr>\n",
       "    <tr>\n",
       "      <th>2019-01-03</th>\n",
       "      <td>0.023826</td>\n",
       "      <td>-0.024267</td>\n",
       "      <td>-0.018314</td>\n",
       "      <td>-0.062319</td>\n",
       "      <td>-0.062319</td>\n",
       "      <td>0.327020</td>\n",
       "    </tr>\n",
       "    <tr>\n",
       "      <th>2019-01-04</th>\n",
       "      <td>-0.021532</td>\n",
       "      <td>0.018836</td>\n",
       "      <td>0.015619</td>\n",
       "      <td>0.062099</td>\n",
       "      <td>0.062099</td>\n",
       "      <td>-0.186309</td>\n",
       "    </tr>\n",
       "    <tr>\n",
       "      <th>2019-01-07</th>\n",
       "      <td>0.056131</td>\n",
       "      <td>0.050680</td>\n",
       "      <td>0.050588</td>\n",
       "      <td>0.051587</td>\n",
       "      <td>0.051586</td>\n",
       "      <td>0.191410</td>\n",
       "    </tr>\n",
       "    <tr>\n",
       "      <th>2019-01-08</th>\n",
       "      <td>0.057451</td>\n",
       "      <td>0.012960</td>\n",
       "      <td>0.003439</td>\n",
       "      <td>-0.025210</td>\n",
       "      <td>-0.025211</td>\n",
       "      <td>0.102896</td>\n",
       "    </tr>\n",
       "    <tr>\n",
       "      <th>...</th>\n",
       "      <td>...</td>\n",
       "      <td>...</td>\n",
       "      <td>...</td>\n",
       "      <td>...</td>\n",
       "      <td>...</td>\n",
       "      <td>...</td>\n",
       "    </tr>\n",
       "    <tr>\n",
       "      <th>2023-04-18</th>\n",
       "      <td>0.035791</td>\n",
       "      <td>0.040066</td>\n",
       "      <td>0.034359</td>\n",
       "      <td>0.024330</td>\n",
       "      <td>0.024330</td>\n",
       "      <td>0.632010</td>\n",
       "    </tr>\n",
       "    <tr>\n",
       "      <th>2023-04-19</th>\n",
       "      <td>-0.006267</td>\n",
       "      <td>-0.003921</td>\n",
       "      <td>-0.004580</td>\n",
       "      <td>0.009497</td>\n",
       "      <td>0.009497</td>\n",
       "      <td>-0.522543</td>\n",
       "    </tr>\n",
       "    <tr>\n",
       "      <th>2023-04-20</th>\n",
       "      <td>0.011266</td>\n",
       "      <td>0.001071</td>\n",
       "      <td>-0.008556</td>\n",
       "      <td>-0.030056</td>\n",
       "      <td>-0.030056</td>\n",
       "      <td>0.176078</td>\n",
       "    </tr>\n",
       "    <tr>\n",
       "      <th>2023-04-21</th>\n",
       "      <td>-0.026327</td>\n",
       "      <td>-0.030684</td>\n",
       "      <td>-0.010350</td>\n",
       "      <td>0.000553</td>\n",
       "      <td>0.000553</td>\n",
       "      <td>-0.215586</td>\n",
       "    </tr>\n",
       "    <tr>\n",
       "      <th>2023-04-24</th>\n",
       "      <td>0.002261</td>\n",
       "      <td>0.006710</td>\n",
       "      <td>-0.001910</td>\n",
       "      <td>-0.002843</td>\n",
       "      <td>-0.002843</td>\n",
       "      <td>-0.017264</td>\n",
       "    </tr>\n",
       "  </tbody>\n",
       "</table>\n",
       "<p>1085 rows × 6 columns</p>\n",
       "</div>"
      ],
      "text/plain": [
       "                Open      High       Low     Close  Adj Close    Volume\n",
       "Date                                                                   \n",
       "2019-01-02       NaN       NaN       NaN       NaN        NaN       NaN\n",
       "2019-01-03  0.023826 -0.024267 -0.018314 -0.062319  -0.062319  0.327020\n",
       "2019-01-04 -0.021532  0.018836  0.015619  0.062099   0.062099 -0.186309\n",
       "2019-01-07  0.056131  0.050680  0.050588  0.051587   0.051586  0.191410\n",
       "2019-01-08  0.057451  0.012960  0.003439 -0.025210  -0.025211  0.102896\n",
       "...              ...       ...       ...       ...        ...       ...\n",
       "2023-04-18  0.035791  0.040066  0.034359  0.024330   0.024330  0.632010\n",
       "2023-04-19 -0.006267 -0.003921 -0.004580  0.009497   0.009497 -0.522543\n",
       "2023-04-20  0.011266  0.001071 -0.008556 -0.030056  -0.030056  0.176078\n",
       "2023-04-21 -0.026327 -0.030684 -0.010350  0.000553   0.000553 -0.215586\n",
       "2023-04-24  0.002261  0.006710 -0.001910 -0.002843  -0.002843 -0.017264\n",
       "\n",
       "[1085 rows x 6 columns]"
      ]
     },
     "execution_count": 34,
     "metadata": {},
     "output_type": "execute_result"
    }
   ],
   "source": [
    "np.log(data/data.shift())"
   ]
  },
  {
   "cell_type": "code",
   "execution_count": 35,
   "id": "55c002ae",
   "metadata": {},
   "outputs": [
    {
     "data": {
      "text/plain": [
       "Open         2.112752\n",
       "High         2.067455\n",
       "Low          2.104537\n",
       "Close        2.071999\n",
       "Adj Close    2.079524\n",
       "Volume      -0.406359\n",
       "dtype: float64"
      ]
     },
     "execution_count": 35,
     "metadata": {},
     "output_type": "execute_result"
    }
   ],
   "source": [
    "# Adding the percentages of the change of the logs \n",
    "\n",
    "np.sum(np.log(data/data.shift()))"
   ]
  },
  {
   "cell_type": "code",
   "execution_count": 38,
   "id": "49c7a33f",
   "metadata": {},
   "outputs": [
    {
     "data": {
      "text/html": [
       "<div>\n",
       "<style scoped>\n",
       "    .dataframe tbody tr th:only-of-type {\n",
       "        vertical-align: middle;\n",
       "    }\n",
       "\n",
       "    .dataframe tbody tr th {\n",
       "        vertical-align: top;\n",
       "    }\n",
       "\n",
       "    .dataframe thead th {\n",
       "        text-align: right;\n",
       "    }\n",
       "</style>\n",
       "<table border=\"1\" class=\"dataframe\">\n",
       "  <thead>\n",
       "    <tr style=\"text-align: right;\">\n",
       "      <th></th>\n",
       "      <th>Open</th>\n",
       "      <th>High</th>\n",
       "      <th>Low</th>\n",
       "      <th>Close</th>\n",
       "      <th>Adj Close</th>\n",
       "      <th>Volume</th>\n",
       "    </tr>\n",
       "    <tr>\n",
       "      <th>Date</th>\n",
       "      <th></th>\n",
       "      <th></th>\n",
       "      <th></th>\n",
       "      <th></th>\n",
       "      <th></th>\n",
       "      <th></th>\n",
       "    </tr>\n",
       "  </thead>\n",
       "  <tbody>\n",
       "    <tr>\n",
       "      <th>2023-04-24</th>\n",
       "      <td>2.112752</td>\n",
       "      <td>2.067455</td>\n",
       "      <td>2.104537</td>\n",
       "      <td>2.071999</td>\n",
       "      <td>2.079524</td>\n",
       "      <td>-0.406359</td>\n",
       "    </tr>\n",
       "  </tbody>\n",
       "</table>\n",
       "</div>"
      ],
      "text/plain": [
       "                Open      High       Low     Close  Adj Close    Volume\n",
       "Date                                                                   \n",
       "2023-04-24  2.112752  2.067455  2.104537  2.071999   2.079524 -0.406359"
      ]
     },
     "execution_count": 38,
     "metadata": {},
     "output_type": "execute_result"
    }
   ],
   "source": [
    "np.log(data/data.iloc[0]).tail(1)\n",
    "\n",
    "# This is the same result\n",
    "# The problem with normal percentage changes is that you cannot sum them up, whereas \n",
    "# with logarithmic changes, you can."
   ]
  },
  {
   "cell_type": "code",
   "execution_count": 41,
   "id": "aa055541",
   "metadata": {},
   "outputs": [
    {
     "data": {
      "text/plain": [
       "(10,)"
      ]
     },
     "execution_count": 41,
     "metadata": {},
     "output_type": "execute_result"
    }
   ],
   "source": [
    "small.shape\n",
    "# Which means there are 10 values"
   ]
  },
  {
   "cell_type": "code",
   "execution_count": 40,
   "id": "59ad1d42",
   "metadata": {},
   "outputs": [
    {
     "data": {
      "text/plain": [
       "array([[32.65999985, 33.44749832, 32.73500061, 34.625     , 36.67250061],\n",
       "       [35.47499847, 35.45000076, 36.08250046, 36.68000031, 37.93999863]])"
      ]
     },
     "execution_count": 40,
     "metadata": {},
     "output_type": "execute_result"
    }
   ],
   "source": [
    "small.reshape(2, 5)"
   ]
  },
  {
   "cell_type": "code",
   "execution_count": 42,
   "id": "d79a7565",
   "metadata": {},
   "outputs": [
    {
     "data": {
      "text/plain": [
       "array([[32.65999985],\n",
       "       [33.44749832],\n",
       "       [32.73500061],\n",
       "       [34.625     ],\n",
       "       [36.67250061],\n",
       "       [35.47499847],\n",
       "       [35.45000076],\n",
       "       [36.08250046],\n",
       "       [36.68000031],\n",
       "       [37.93999863]])"
      ]
     },
     "execution_count": 42,
     "metadata": {},
     "output_type": "execute_result"
    }
   ],
   "source": [
    "# This is useful if you want the array to be reshaped as a long column\n",
    "\n",
    "small.reshape(10, 1)"
   ]
  },
  {
   "cell_type": "code",
   "execution_count": 43,
   "id": "913dadb1",
   "metadata": {},
   "outputs": [
    {
     "data": {
      "text/plain": [
       "array([[32.65999985],\n",
       "       [33.44749832],\n",
       "       [32.73500061],\n",
       "       [34.625     ],\n",
       "       [36.67250061],\n",
       "       [35.47499847],\n",
       "       [35.45000076],\n",
       "       [36.08250046],\n",
       "       [36.68000031],\n",
       "       [37.93999863]])"
      ]
     },
     "execution_count": 43,
     "metadata": {},
     "output_type": "execute_result"
    }
   ],
   "source": [
    "# This is the equivalent of \n",
    "small.reshape(-1, 1)"
   ]
  },
  {
   "cell_type": "code",
   "execution_count": 44,
   "id": "e07fc454",
   "metadata": {},
   "outputs": [
    {
     "name": "stdout",
     "output_type": "stream",
     "text": [
      "[*********************100%***********************]  4 of 4 completed\n"
     ]
    }
   ],
   "source": [
    "# PORTFOLIOS AND CALCULATING THE RETURN\n",
    "\n",
    "tickers = ['NVDA', 'INTC', 'AMD', 'TSM']\n",
    "\n",
    "start = dt.datetime(2020, 1, 1)\n",
    "\n",
    "data = pdr.get_data_yahoo(tickers, start)"
   ]
  },
  {
   "cell_type": "code",
   "execution_count": 45,
   "id": "f7628b60",
   "metadata": {},
   "outputs": [
    {
     "data": {
      "text/html": [
       "<div>\n",
       "<style scoped>\n",
       "    .dataframe tbody tr th:only-of-type {\n",
       "        vertical-align: middle;\n",
       "    }\n",
       "\n",
       "    .dataframe tbody tr th {\n",
       "        vertical-align: top;\n",
       "    }\n",
       "\n",
       "    .dataframe thead tr th {\n",
       "        text-align: left;\n",
       "    }\n",
       "\n",
       "    .dataframe thead tr:last-of-type th {\n",
       "        text-align: right;\n",
       "    }\n",
       "</style>\n",
       "<table border=\"1\" class=\"dataframe\">\n",
       "  <thead>\n",
       "    <tr>\n",
       "      <th></th>\n",
       "      <th colspan=\"4\" halign=\"left\">Adj Close</th>\n",
       "      <th colspan=\"4\" halign=\"left\">Close</th>\n",
       "      <th colspan=\"2\" halign=\"left\">High</th>\n",
       "      <th>...</th>\n",
       "      <th colspan=\"2\" halign=\"left\">Low</th>\n",
       "      <th colspan=\"4\" halign=\"left\">Open</th>\n",
       "      <th colspan=\"4\" halign=\"left\">Volume</th>\n",
       "    </tr>\n",
       "    <tr>\n",
       "      <th></th>\n",
       "      <th>AMD</th>\n",
       "      <th>INTC</th>\n",
       "      <th>NVDA</th>\n",
       "      <th>TSM</th>\n",
       "      <th>AMD</th>\n",
       "      <th>INTC</th>\n",
       "      <th>NVDA</th>\n",
       "      <th>TSM</th>\n",
       "      <th>AMD</th>\n",
       "      <th>INTC</th>\n",
       "      <th>...</th>\n",
       "      <th>NVDA</th>\n",
       "      <th>TSM</th>\n",
       "      <th>AMD</th>\n",
       "      <th>INTC</th>\n",
       "      <th>NVDA</th>\n",
       "      <th>TSM</th>\n",
       "      <th>AMD</th>\n",
       "      <th>INTC</th>\n",
       "      <th>NVDA</th>\n",
       "      <th>TSM</th>\n",
       "    </tr>\n",
       "    <tr>\n",
       "      <th>Date</th>\n",
       "      <th></th>\n",
       "      <th></th>\n",
       "      <th></th>\n",
       "      <th></th>\n",
       "      <th></th>\n",
       "      <th></th>\n",
       "      <th></th>\n",
       "      <th></th>\n",
       "      <th></th>\n",
       "      <th></th>\n",
       "      <th></th>\n",
       "      <th></th>\n",
       "      <th></th>\n",
       "      <th></th>\n",
       "      <th></th>\n",
       "      <th></th>\n",
       "      <th></th>\n",
       "      <th></th>\n",
       "      <th></th>\n",
       "      <th></th>\n",
       "      <th></th>\n",
       "    </tr>\n",
       "  </thead>\n",
       "  <tbody>\n",
       "    <tr>\n",
       "      <th>2020-01-02</th>\n",
       "      <td>49.099998</td>\n",
       "      <td>54.984596</td>\n",
       "      <td>59.760391</td>\n",
       "      <td>56.058464</td>\n",
       "      <td>49.099998</td>\n",
       "      <td>60.840000</td>\n",
       "      <td>59.977501</td>\n",
       "      <td>60.040001</td>\n",
       "      <td>49.250000</td>\n",
       "      <td>60.970001</td>\n",
       "      <td>...</td>\n",
       "      <td>59.180000</td>\n",
       "      <td>59.599998</td>\n",
       "      <td>46.860001</td>\n",
       "      <td>60.240002</td>\n",
       "      <td>59.687500</td>\n",
       "      <td>59.599998</td>\n",
       "      <td>80331100</td>\n",
       "      <td>18056000</td>\n",
       "      <td>23753600</td>\n",
       "      <td>8432600</td>\n",
       "    </tr>\n",
       "    <tr>\n",
       "      <th>2020-01-03</th>\n",
       "      <td>48.599998</td>\n",
       "      <td>54.315811</td>\n",
       "      <td>58.803883</td>\n",
       "      <td>54.209766</td>\n",
       "      <td>48.599998</td>\n",
       "      <td>60.099998</td>\n",
       "      <td>59.017502</td>\n",
       "      <td>58.060001</td>\n",
       "      <td>49.389999</td>\n",
       "      <td>60.700001</td>\n",
       "      <td>...</td>\n",
       "      <td>58.525002</td>\n",
       "      <td>58.040001</td>\n",
       "      <td>48.029999</td>\n",
       "      <td>59.810001</td>\n",
       "      <td>58.775002</td>\n",
       "      <td>58.970001</td>\n",
       "      <td>73127400</td>\n",
       "      <td>15293900</td>\n",
       "      <td>20538400</td>\n",
       "      <td>10546400</td>\n",
       "    </tr>\n",
       "    <tr>\n",
       "      <th>2020-01-06</th>\n",
       "      <td>48.389999</td>\n",
       "      <td>54.162170</td>\n",
       "      <td>59.050476</td>\n",
       "      <td>53.584198</td>\n",
       "      <td>48.389999</td>\n",
       "      <td>59.930000</td>\n",
       "      <td>59.264999</td>\n",
       "      <td>57.389999</td>\n",
       "      <td>48.860001</td>\n",
       "      <td>60.200001</td>\n",
       "      <td>...</td>\n",
       "      <td>57.817501</td>\n",
       "      <td>57.130001</td>\n",
       "      <td>48.020000</td>\n",
       "      <td>59.590000</td>\n",
       "      <td>58.080002</td>\n",
       "      <td>57.599998</td>\n",
       "      <td>47934900</td>\n",
       "      <td>17755200</td>\n",
       "      <td>26263600</td>\n",
       "      <td>8897200</td>\n",
       "    </tr>\n",
       "    <tr>\n",
       "      <th>2020-01-07</th>\n",
       "      <td>48.250000</td>\n",
       "      <td>53.258411</td>\n",
       "      <td>59.765381</td>\n",
       "      <td>54.452515</td>\n",
       "      <td>48.250000</td>\n",
       "      <td>58.930000</td>\n",
       "      <td>59.982498</td>\n",
       "      <td>58.320000</td>\n",
       "      <td>49.389999</td>\n",
       "      <td>59.799999</td>\n",
       "      <td>...</td>\n",
       "      <td>59.097500</td>\n",
       "      <td>56.740002</td>\n",
       "      <td>49.349998</td>\n",
       "      <td>59.779999</td>\n",
       "      <td>59.549999</td>\n",
       "      <td>57.450001</td>\n",
       "      <td>58061400</td>\n",
       "      <td>21876100</td>\n",
       "      <td>31485600</td>\n",
       "      <td>7444300</td>\n",
       "    </tr>\n",
       "    <tr>\n",
       "      <th>2020-01-08</th>\n",
       "      <td>47.830002</td>\n",
       "      <td>53.294571</td>\n",
       "      <td>59.877476</td>\n",
       "      <td>54.854004</td>\n",
       "      <td>47.830002</td>\n",
       "      <td>58.970001</td>\n",
       "      <td>60.095001</td>\n",
       "      <td>58.750000</td>\n",
       "      <td>48.299999</td>\n",
       "      <td>59.320000</td>\n",
       "      <td>...</td>\n",
       "      <td>59.537498</td>\n",
       "      <td>58.110001</td>\n",
       "      <td>47.849998</td>\n",
       "      <td>58.889999</td>\n",
       "      <td>59.939999</td>\n",
       "      <td>58.189999</td>\n",
       "      <td>53767000</td>\n",
       "      <td>23133500</td>\n",
       "      <td>27710800</td>\n",
       "      <td>5381500</td>\n",
       "    </tr>\n",
       "  </tbody>\n",
       "</table>\n",
       "<p>5 rows × 24 columns</p>\n",
       "</div>"
      ],
      "text/plain": [
       "            Adj Close                                       Close             \\\n",
       "                  AMD       INTC       NVDA        TSM        AMD       INTC   \n",
       "Date                                                                           \n",
       "2020-01-02  49.099998  54.984596  59.760391  56.058464  49.099998  60.840000   \n",
       "2020-01-03  48.599998  54.315811  58.803883  54.209766  48.599998  60.099998   \n",
       "2020-01-06  48.389999  54.162170  59.050476  53.584198  48.389999  59.930000   \n",
       "2020-01-07  48.250000  53.258411  59.765381  54.452515  48.250000  58.930000   \n",
       "2020-01-08  47.830002  53.294571  59.877476  54.854004  47.830002  58.970001   \n",
       "\n",
       "                                       High             ...        Low  \\\n",
       "                 NVDA        TSM        AMD       INTC  ...       NVDA   \n",
       "Date                                                    ...              \n",
       "2020-01-02  59.977501  60.040001  49.250000  60.970001  ...  59.180000   \n",
       "2020-01-03  59.017502  58.060001  49.389999  60.700001  ...  58.525002   \n",
       "2020-01-06  59.264999  57.389999  48.860001  60.200001  ...  57.817501   \n",
       "2020-01-07  59.982498  58.320000  49.389999  59.799999  ...  59.097500   \n",
       "2020-01-08  60.095001  58.750000  48.299999  59.320000  ...  59.537498   \n",
       "\n",
       "                            Open                                     Volume  \\\n",
       "                  TSM        AMD       INTC       NVDA        TSM       AMD   \n",
       "Date                                                                          \n",
       "2020-01-02  59.599998  46.860001  60.240002  59.687500  59.599998  80331100   \n",
       "2020-01-03  58.040001  48.029999  59.810001  58.775002  58.970001  73127400   \n",
       "2020-01-06  57.130001  48.020000  59.590000  58.080002  57.599998  47934900   \n",
       "2020-01-07  56.740002  49.349998  59.779999  59.549999  57.450001  58061400   \n",
       "2020-01-08  58.110001  47.849998  58.889999  59.939999  58.189999  53767000   \n",
       "\n",
       "                                          \n",
       "                INTC      NVDA       TSM  \n",
       "Date                                      \n",
       "2020-01-02  18056000  23753600   8432600  \n",
       "2020-01-03  15293900  20538400  10546400  \n",
       "2020-01-06  17755200  26263600   8897200  \n",
       "2020-01-07  21876100  31485600   7444300  \n",
       "2020-01-08  23133500  27710800   5381500  \n",
       "\n",
       "[5 rows x 24 columns]"
      ]
     },
     "execution_count": 45,
     "metadata": {},
     "output_type": "execute_result"
    }
   ],
   "source": [
    "data.head()"
   ]
  },
  {
   "cell_type": "code",
   "execution_count": 46,
   "id": "0b93b092",
   "metadata": {},
   "outputs": [
    {
     "data": {
      "text/html": [
       "<div>\n",
       "<style scoped>\n",
       "    .dataframe tbody tr th:only-of-type {\n",
       "        vertical-align: middle;\n",
       "    }\n",
       "\n",
       "    .dataframe tbody tr th {\n",
       "        vertical-align: top;\n",
       "    }\n",
       "\n",
       "    .dataframe thead th {\n",
       "        text-align: right;\n",
       "    }\n",
       "</style>\n",
       "<table border=\"1\" class=\"dataframe\">\n",
       "  <thead>\n",
       "    <tr style=\"text-align: right;\">\n",
       "      <th></th>\n",
       "      <th>AMD</th>\n",
       "      <th>INTC</th>\n",
       "      <th>NVDA</th>\n",
       "      <th>TSM</th>\n",
       "    </tr>\n",
       "    <tr>\n",
       "      <th>Date</th>\n",
       "      <th></th>\n",
       "      <th></th>\n",
       "      <th></th>\n",
       "      <th></th>\n",
       "    </tr>\n",
       "  </thead>\n",
       "  <tbody>\n",
       "    <tr>\n",
       "      <th>2020-01-02</th>\n",
       "      <td>49.099998</td>\n",
       "      <td>54.984596</td>\n",
       "      <td>59.760391</td>\n",
       "      <td>56.058464</td>\n",
       "    </tr>\n",
       "    <tr>\n",
       "      <th>2020-01-03</th>\n",
       "      <td>48.599998</td>\n",
       "      <td>54.315811</td>\n",
       "      <td>58.803883</td>\n",
       "      <td>54.209766</td>\n",
       "    </tr>\n",
       "    <tr>\n",
       "      <th>2020-01-06</th>\n",
       "      <td>48.389999</td>\n",
       "      <td>54.162170</td>\n",
       "      <td>59.050476</td>\n",
       "      <td>53.584198</td>\n",
       "    </tr>\n",
       "    <tr>\n",
       "      <th>2020-01-07</th>\n",
       "      <td>48.250000</td>\n",
       "      <td>53.258411</td>\n",
       "      <td>59.765381</td>\n",
       "      <td>54.452515</td>\n",
       "    </tr>\n",
       "    <tr>\n",
       "      <th>2020-01-08</th>\n",
       "      <td>47.830002</td>\n",
       "      <td>53.294571</td>\n",
       "      <td>59.877476</td>\n",
       "      <td>54.854004</td>\n",
       "    </tr>\n",
       "  </tbody>\n",
       "</table>\n",
       "</div>"
      ],
      "text/plain": [
       "                  AMD       INTC       NVDA        TSM\n",
       "Date                                                  \n",
       "2020-01-02  49.099998  54.984596  59.760391  56.058464\n",
       "2020-01-03  48.599998  54.315811  58.803883  54.209766\n",
       "2020-01-06  48.389999  54.162170  59.050476  53.584198\n",
       "2020-01-07  48.250000  53.258411  59.765381  54.452515\n",
       "2020-01-08  47.830002  53.294571  59.877476  54.854004"
      ]
     },
     "execution_count": 46,
     "metadata": {},
     "output_type": "execute_result"
    }
   ],
   "source": [
    "data = data['Adj Close']\n",
    "data.head()"
   ]
  },
  {
   "cell_type": "code",
   "execution_count": 48,
   "id": "beb60947",
   "metadata": {},
   "outputs": [],
   "source": [
    "# Allocating a arbitrary percetnage to each stock in a portfolio\n",
    "\n",
    "portfolios = [.25, .15, .40, .20]"
   ]
  },
  {
   "cell_type": "code",
   "execution_count": 49,
   "id": "f560eb42",
   "metadata": {},
   "outputs": [
    {
     "data": {
      "text/plain": [
       "1.0"
      ]
     },
     "execution_count": 49,
     "metadata": {},
     "output_type": "execute_result"
    }
   ],
   "source": [
    "np.sum(portfolios)"
   ]
  },
  {
   "cell_type": "code",
   "execution_count": 51,
   "id": "6c81df8b",
   "metadata": {},
   "outputs": [
    {
     "data": {
      "text/html": [
       "<div>\n",
       "<style scoped>\n",
       "    .dataframe tbody tr th:only-of-type {\n",
       "        vertical-align: middle;\n",
       "    }\n",
       "\n",
       "    .dataframe tbody tr th {\n",
       "        vertical-align: top;\n",
       "    }\n",
       "\n",
       "    .dataframe thead th {\n",
       "        text-align: right;\n",
       "    }\n",
       "</style>\n",
       "<table border=\"1\" class=\"dataframe\">\n",
       "  <thead>\n",
       "    <tr style=\"text-align: right;\">\n",
       "      <th></th>\n",
       "      <th>AMD</th>\n",
       "      <th>INTC</th>\n",
       "      <th>NVDA</th>\n",
       "      <th>TSM</th>\n",
       "    </tr>\n",
       "    <tr>\n",
       "      <th>Date</th>\n",
       "      <th></th>\n",
       "      <th></th>\n",
       "      <th></th>\n",
       "      <th></th>\n",
       "    </tr>\n",
       "  </thead>\n",
       "  <tbody>\n",
       "    <tr>\n",
       "      <th>2020-01-02</th>\n",
       "      <td>1.000000</td>\n",
       "      <td>1.000000</td>\n",
       "      <td>1.000000</td>\n",
       "      <td>1.000000</td>\n",
       "    </tr>\n",
       "    <tr>\n",
       "      <th>2020-01-03</th>\n",
       "      <td>0.989817</td>\n",
       "      <td>0.987837</td>\n",
       "      <td>0.983994</td>\n",
       "      <td>0.967022</td>\n",
       "    </tr>\n",
       "    <tr>\n",
       "      <th>2020-01-06</th>\n",
       "      <td>0.985540</td>\n",
       "      <td>0.985043</td>\n",
       "      <td>0.988121</td>\n",
       "      <td>0.955863</td>\n",
       "    </tr>\n",
       "    <tr>\n",
       "      <th>2020-01-07</th>\n",
       "      <td>0.982688</td>\n",
       "      <td>0.968606</td>\n",
       "      <td>1.000083</td>\n",
       "      <td>0.971352</td>\n",
       "    </tr>\n",
       "    <tr>\n",
       "      <th>2020-01-08</th>\n",
       "      <td>0.974134</td>\n",
       "      <td>0.969264</td>\n",
       "      <td>1.001959</td>\n",
       "      <td>0.978514</td>\n",
       "    </tr>\n",
       "    <tr>\n",
       "      <th>...</th>\n",
       "      <td>...</td>\n",
       "      <td>...</td>\n",
       "      <td>...</td>\n",
       "      <td>...</td>\n",
       "    </tr>\n",
       "    <tr>\n",
       "      <th>2023-04-18</th>\n",
       "      <td>1.828513</td>\n",
       "      <td>0.578889</td>\n",
       "      <td>4.629655</td>\n",
       "      <td>1.572287</td>\n",
       "    </tr>\n",
       "    <tr>\n",
       "      <th>2023-04-19</th>\n",
       "      <td>1.831772</td>\n",
       "      <td>0.566522</td>\n",
       "      <td>4.673831</td>\n",
       "      <td>1.556054</td>\n",
       "    </tr>\n",
       "    <tr>\n",
       "      <th>2023-04-20</th>\n",
       "      <td>1.835234</td>\n",
       "      <td>0.561248</td>\n",
       "      <td>4.535446</td>\n",
       "      <td>1.592801</td>\n",
       "    </tr>\n",
       "    <tr>\n",
       "      <th>2023-04-21</th>\n",
       "      <td>1.801018</td>\n",
       "      <td>0.551063</td>\n",
       "      <td>4.537956</td>\n",
       "      <td>1.522874</td>\n",
       "    </tr>\n",
       "    <tr>\n",
       "      <th>2023-04-24</th>\n",
       "      <td>1.783503</td>\n",
       "      <td>0.539424</td>\n",
       "      <td>4.525071</td>\n",
       "      <td>1.509852</td>\n",
       "    </tr>\n",
       "  </tbody>\n",
       "</table>\n",
       "<p>833 rows × 4 columns</p>\n",
       "</div>"
      ],
      "text/plain": [
       "                 AMD      INTC      NVDA       TSM\n",
       "Date                                              \n",
       "2020-01-02  1.000000  1.000000  1.000000  1.000000\n",
       "2020-01-03  0.989817  0.987837  0.983994  0.967022\n",
       "2020-01-06  0.985540  0.985043  0.988121  0.955863\n",
       "2020-01-07  0.982688  0.968606  1.000083  0.971352\n",
       "2020-01-08  0.974134  0.969264  1.001959  0.978514\n",
       "...              ...       ...       ...       ...\n",
       "2023-04-18  1.828513  0.578889  4.629655  1.572287\n",
       "2023-04-19  1.831772  0.566522  4.673831  1.556054\n",
       "2023-04-20  1.835234  0.561248  4.535446  1.592801\n",
       "2023-04-21  1.801018  0.551063  4.537956  1.522874\n",
       "2023-04-24  1.783503  0.539424  4.525071  1.509852\n",
       "\n",
       "[833 rows x 4 columns]"
      ]
     },
     "execution_count": 51,
     "metadata": {},
     "output_type": "execute_result"
    }
   ],
   "source": [
    "# Assuming $100,000 invested\n",
    "# First, normalising the data\n",
    "\n",
    "data/data.iloc[0]"
   ]
  },
  {
   "cell_type": "code",
   "execution_count": 52,
   "id": "408b50be",
   "metadata": {},
   "outputs": [
    {
     "data": {
      "text/html": [
       "<div>\n",
       "<style scoped>\n",
       "    .dataframe tbody tr th:only-of-type {\n",
       "        vertical-align: middle;\n",
       "    }\n",
       "\n",
       "    .dataframe tbody tr th {\n",
       "        vertical-align: top;\n",
       "    }\n",
       "\n",
       "    .dataframe thead th {\n",
       "        text-align: right;\n",
       "    }\n",
       "</style>\n",
       "<table border=\"1\" class=\"dataframe\">\n",
       "  <thead>\n",
       "    <tr style=\"text-align: right;\">\n",
       "      <th></th>\n",
       "      <th>AMD</th>\n",
       "      <th>INTC</th>\n",
       "      <th>NVDA</th>\n",
       "      <th>TSM</th>\n",
       "    </tr>\n",
       "    <tr>\n",
       "      <th>Date</th>\n",
       "      <th></th>\n",
       "      <th></th>\n",
       "      <th></th>\n",
       "      <th></th>\n",
       "    </tr>\n",
       "  </thead>\n",
       "  <tbody>\n",
       "    <tr>\n",
       "      <th>2020-01-02</th>\n",
       "      <td>0.250000</td>\n",
       "      <td>0.150000</td>\n",
       "      <td>0.400000</td>\n",
       "      <td>0.200000</td>\n",
       "    </tr>\n",
       "    <tr>\n",
       "      <th>2020-01-03</th>\n",
       "      <td>0.247454</td>\n",
       "      <td>0.148176</td>\n",
       "      <td>0.393598</td>\n",
       "      <td>0.193404</td>\n",
       "    </tr>\n",
       "    <tr>\n",
       "      <th>2020-01-06</th>\n",
       "      <td>0.246385</td>\n",
       "      <td>0.147756</td>\n",
       "      <td>0.395248</td>\n",
       "      <td>0.191173</td>\n",
       "    </tr>\n",
       "    <tr>\n",
       "      <th>2020-01-07</th>\n",
       "      <td>0.245672</td>\n",
       "      <td>0.145291</td>\n",
       "      <td>0.400033</td>\n",
       "      <td>0.194270</td>\n",
       "    </tr>\n",
       "    <tr>\n",
       "      <th>2020-01-08</th>\n",
       "      <td>0.243534</td>\n",
       "      <td>0.145390</td>\n",
       "      <td>0.400784</td>\n",
       "      <td>0.195703</td>\n",
       "    </tr>\n",
       "    <tr>\n",
       "      <th>...</th>\n",
       "      <td>...</td>\n",
       "      <td>...</td>\n",
       "      <td>...</td>\n",
       "      <td>...</td>\n",
       "    </tr>\n",
       "    <tr>\n",
       "      <th>2023-04-18</th>\n",
       "      <td>0.457128</td>\n",
       "      <td>0.086833</td>\n",
       "      <td>1.851862</td>\n",
       "      <td>0.314457</td>\n",
       "    </tr>\n",
       "    <tr>\n",
       "      <th>2023-04-19</th>\n",
       "      <td>0.457943</td>\n",
       "      <td>0.084978</td>\n",
       "      <td>1.869533</td>\n",
       "      <td>0.311211</td>\n",
       "    </tr>\n",
       "    <tr>\n",
       "      <th>2023-04-20</th>\n",
       "      <td>0.458809</td>\n",
       "      <td>0.084187</td>\n",
       "      <td>1.814178</td>\n",
       "      <td>0.318560</td>\n",
       "    </tr>\n",
       "    <tr>\n",
       "      <th>2023-04-21</th>\n",
       "      <td>0.450255</td>\n",
       "      <td>0.082660</td>\n",
       "      <td>1.815182</td>\n",
       "      <td>0.304575</td>\n",
       "    </tr>\n",
       "    <tr>\n",
       "      <th>2023-04-24</th>\n",
       "      <td>0.445876</td>\n",
       "      <td>0.080914</td>\n",
       "      <td>1.810028</td>\n",
       "      <td>0.301970</td>\n",
       "    </tr>\n",
       "  </tbody>\n",
       "</table>\n",
       "<p>833 rows × 4 columns</p>\n",
       "</div>"
      ],
      "text/plain": [
       "                 AMD      INTC      NVDA       TSM\n",
       "Date                                              \n",
       "2020-01-02  0.250000  0.150000  0.400000  0.200000\n",
       "2020-01-03  0.247454  0.148176  0.393598  0.193404\n",
       "2020-01-06  0.246385  0.147756  0.395248  0.191173\n",
       "2020-01-07  0.245672  0.145291  0.400033  0.194270\n",
       "2020-01-08  0.243534  0.145390  0.400784  0.195703\n",
       "...              ...       ...       ...       ...\n",
       "2023-04-18  0.457128  0.086833  1.851862  0.314457\n",
       "2023-04-19  0.457943  0.084978  1.869533  0.311211\n",
       "2023-04-20  0.458809  0.084187  1.814178  0.318560\n",
       "2023-04-21  0.450255  0.082660  1.815182  0.304575\n",
       "2023-04-24  0.445876  0.080914  1.810028  0.301970\n",
       "\n",
       "[833 rows x 4 columns]"
      ]
     },
     "execution_count": 52,
     "metadata": {},
     "output_type": "execute_result"
    }
   ],
   "source": [
    "# AMD gained, INTC lost nearly half, NVDA increased 4.5 times\n",
    "\n",
    "(data/data.iloc[0])*portfolios"
   ]
  },
  {
   "cell_type": "code",
   "execution_count": 53,
   "id": "12f1a8fc",
   "metadata": {},
   "outputs": [
    {
     "data": {
      "text/html": [
       "<div>\n",
       "<style scoped>\n",
       "    .dataframe tbody tr th:only-of-type {\n",
       "        vertical-align: middle;\n",
       "    }\n",
       "\n",
       "    .dataframe tbody tr th {\n",
       "        vertical-align: top;\n",
       "    }\n",
       "\n",
       "    .dataframe thead th {\n",
       "        text-align: right;\n",
       "    }\n",
       "</style>\n",
       "<table border=\"1\" class=\"dataframe\">\n",
       "  <thead>\n",
       "    <tr style=\"text-align: right;\">\n",
       "      <th></th>\n",
       "      <th>AMD</th>\n",
       "      <th>INTC</th>\n",
       "      <th>NVDA</th>\n",
       "      <th>TSM</th>\n",
       "    </tr>\n",
       "    <tr>\n",
       "      <th>Date</th>\n",
       "      <th></th>\n",
       "      <th></th>\n",
       "      <th></th>\n",
       "      <th></th>\n",
       "    </tr>\n",
       "  </thead>\n",
       "  <tbody>\n",
       "    <tr>\n",
       "      <th>2020-01-02</th>\n",
       "      <td>25000.000000</td>\n",
       "      <td>15000.000000</td>\n",
       "      <td>40000.000000</td>\n",
       "      <td>20000.000000</td>\n",
       "    </tr>\n",
       "    <tr>\n",
       "      <th>2020-01-03</th>\n",
       "      <td>24745.417507</td>\n",
       "      <td>14817.552967</td>\n",
       "      <td>39359.770834</td>\n",
       "      <td>19340.439417</td>\n",
       "    </tr>\n",
       "    <tr>\n",
       "      <th>2020-01-06</th>\n",
       "      <td>24638.493327</td>\n",
       "      <td>14775.639207</td>\n",
       "      <td>39524.825627</td>\n",
       "      <td>19117.255139</td>\n",
       "    </tr>\n",
       "    <tr>\n",
       "      <th>2020-01-07</th>\n",
       "      <td>24567.210539</td>\n",
       "      <td>14529.090428</td>\n",
       "      <td>40003.339753</td>\n",
       "      <td>19427.044808</td>\n",
       "    </tr>\n",
       "    <tr>\n",
       "      <th>2020-01-08</th>\n",
       "      <td>24353.362178</td>\n",
       "      <td>14538.954877</td>\n",
       "      <td>40078.369302</td>\n",
       "      <td>19570.284286</td>\n",
       "    </tr>\n",
       "    <tr>\n",
       "      <th>...</th>\n",
       "      <td>...</td>\n",
       "      <td>...</td>\n",
       "      <td>...</td>\n",
       "      <td>...</td>\n",
       "    </tr>\n",
       "    <tr>\n",
       "      <th>2023-04-18</th>\n",
       "      <td>45712.831756</td>\n",
       "      <td>8683.340997</td>\n",
       "      <td>185186.212947</td>\n",
       "      <td>31445.741828</td>\n",
       "    </tr>\n",
       "    <tr>\n",
       "      <th>2023-04-19</th>\n",
       "      <td>45794.300019</td>\n",
       "      <td>8497.834414</td>\n",
       "      <td>186953.259030</td>\n",
       "      <td>31121.082190</td>\n",
       "    </tr>\n",
       "    <tr>\n",
       "      <th>2023-04-20</th>\n",
       "      <td>45880.857134</td>\n",
       "      <td>8418.721619</td>\n",
       "      <td>181417.827388</td>\n",
       "      <td>31856.028319</td>\n",
       "    </tr>\n",
       "    <tr>\n",
       "      <th>2023-04-21</th>\n",
       "      <td>45025.459803</td>\n",
       "      <td>8265.951185</td>\n",
       "      <td>181518.224252</td>\n",
       "      <td>30457.489049</td>\n",
       "    </tr>\n",
       "    <tr>\n",
       "      <th>2023-04-24</th>\n",
       "      <td>44587.577605</td>\n",
       "      <td>8091.356999</td>\n",
       "      <td>181002.840067</td>\n",
       "      <td>30197.045468</td>\n",
       "    </tr>\n",
       "  </tbody>\n",
       "</table>\n",
       "<p>833 rows × 4 columns</p>\n",
       "</div>"
      ],
      "text/plain": [
       "                     AMD          INTC           NVDA           TSM\n",
       "Date                                                               \n",
       "2020-01-02  25000.000000  15000.000000   40000.000000  20000.000000\n",
       "2020-01-03  24745.417507  14817.552967   39359.770834  19340.439417\n",
       "2020-01-06  24638.493327  14775.639207   39524.825627  19117.255139\n",
       "2020-01-07  24567.210539  14529.090428   40003.339753  19427.044808\n",
       "2020-01-08  24353.362178  14538.954877   40078.369302  19570.284286\n",
       "...                  ...           ...            ...           ...\n",
       "2023-04-18  45712.831756   8683.340997  185186.212947  31445.741828\n",
       "2023-04-19  45794.300019   8497.834414  186953.259030  31121.082190\n",
       "2023-04-20  45880.857134   8418.721619  181417.827388  31856.028319\n",
       "2023-04-21  45025.459803   8265.951185  181518.224252  30457.489049\n",
       "2023-04-24  44587.577605   8091.356999  181002.840067  30197.045468\n",
       "\n",
       "[833 rows x 4 columns]"
      ]
     },
     "execution_count": 53,
     "metadata": {},
     "output_type": "execute_result"
    }
   ],
   "source": [
    "# CALCULATING THE ABSOLUTE DOLLAR RETURN OF A MODELLED PORTFOLIO WITH THEIR ALLOCATED WEIGHTINGS\n",
    "(data/data.iloc[0])*portfolios*100000\n",
    "\n",
    "# Modelling the portfolio with $100,000 now it has been normalised, you can see the dollar return, with\n",
    "# the weightings of the portfolio"
   ]
  },
  {
   "cell_type": "code",
   "execution_count": 55,
   "id": "e90332f2",
   "metadata": {},
   "outputs": [
    {
     "data": {
      "text/plain": [
       "array([0.72822945, 0.31175492, 0.87749579, 0.10662877])"
      ]
     },
     "execution_count": 55,
     "metadata": {},
     "output_type": "execute_result"
    }
   ],
   "source": [
    "weight = np.random.random(4)\n",
    "weight"
   ]
  },
  {
   "cell_type": "code",
   "execution_count": 56,
   "id": "06fd5157",
   "metadata": {},
   "outputs": [],
   "source": [
    "weight /= weight.sum()"
   ]
  },
  {
   "cell_type": "code",
   "execution_count": 57,
   "id": "9b956319",
   "metadata": {},
   "outputs": [
    {
     "data": {
      "text/plain": [
       "1.0"
      ]
     },
     "execution_count": 57,
     "metadata": {},
     "output_type": "execute_result"
    }
   ],
   "source": [
    "weight.sum()"
   ]
  },
  {
   "cell_type": "code",
   "execution_count": null,
   "id": "4bcbc77a",
   "metadata": {},
   "outputs": [],
   "source": [
    "# This is useful for computing a monte carlo simulation"
   ]
  },
  {
   "cell_type": "code",
   "execution_count": null,
   "id": "f2fe31ce",
   "metadata": {},
   "outputs": [],
   "source": []
  }
 ],
 "metadata": {
  "kernelspec": {
   "display_name": "Python 3 (ipykernel)",
   "language": "python",
   "name": "python3"
  },
  "language_info": {
   "codemirror_mode": {
    "name": "ipython",
    "version": 3
   },
   "file_extension": ".py",
   "mimetype": "text/x-python",
   "name": "python",
   "nbconvert_exporter": "python",
   "pygments_lexer": "ipython3",
   "version": "3.9.13"
  }
 },
 "nbformat": 4,
 "nbformat_minor": 5
}
